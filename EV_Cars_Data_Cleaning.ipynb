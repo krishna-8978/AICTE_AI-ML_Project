{
  "nbformat": 4,
  "nbformat_minor": 0,
  "metadata": {
    "colab": {
      "provenance": []
    },
    "kernelspec": {
      "name": "python3",
      "display_name": "Python 3"
    },
    "language_info": {
      "name": "python"
    }
  },
  "cells": [
    {
      "cell_type": "code",
      "execution_count": 18,
      "metadata": {
        "id": "NnYozYbsMT-r"
      },
      "outputs": [],
      "source": [
        "import pandas as pd\n",
        "import numpy as np"
      ]
    },
    {
      "cell_type": "code",
      "source": [
        "# Load the CSV file. Make sure 'cars_data_RAW.csv' is in your working directory.\n",
        "df = pd.read_csv(\"cars_data_RAW.csv\")"
      ],
      "metadata": {
        "id": "YUH1MAKKMeOI"
      },
      "execution_count": 19,
      "outputs": []
    },
    {
      "cell_type": "code",
      "source": [
        "df.info()"
      ],
      "metadata": {
        "colab": {
          "base_uri": "https://localhost:8080/"
        },
        "id": "_mvbFBD4MqIo",
        "outputId": "15ebbc1e-051c-4b34-a3dc-21f420a35202"
      },
      "execution_count": 20,
      "outputs": [
        {
          "output_type": "stream",
          "name": "stdout",
          "text": [
            "<class 'pandas.core.frame.DataFrame'>\n",
            "RangeIndex: 353 entries, 0 to 352\n",
            "Data columns (total 17 columns):\n",
            " #   Column                               Non-Null Count  Dtype  \n",
            "---  ------                               --------------  -----  \n",
            " 0   Row_ID                               353 non-null    int64  \n",
            " 1   title                                353 non-null    object \n",
            " 2   model                                353 non-null    object \n",
            " 3   battery                              353 non-null    float64\n",
            " 4   price-range                          353 non-null    int64  \n",
            " 5   0 - 100                              353 non-null    object \n",
            " 6   Top Speed                            353 non-null    object \n",
            " 7   Range*                               353 non-null    object \n",
            " 8   Efficiency*                          353 non-null    object \n",
            " 9   Fastcharge*                          353 non-null    object \n",
            " 10  Germany_price_before_incentives      340 non-null    object \n",
            " 11  Netherlands_price_before_incentives  322 non-null    object \n",
            " 12  UK_price_after_incentives            247 non-null    object \n",
            " 13  Drive_Configuration                  353 non-null    object \n",
            " 14  Tow_Hitch                            237 non-null    object \n",
            " 15  Towing_capacity_in_kg                228 non-null    float64\n",
            " 16  Number_of_seats                      353 non-null    int64  \n",
            "dtypes: float64(2), int64(3), object(12)\n",
            "memory usage: 47.0+ KB\n"
          ]
        }
      ]
    },
    {
      "cell_type": "code",
      "source": [
        "df.isnull().sum()"
      ],
      "metadata": {
        "colab": {
          "base_uri": "https://localhost:8080/",
          "height": 617
        },
        "id": "1PmOc747Muoo",
        "outputId": "bcd55016-d9dc-448b-a796-672f377dd820"
      },
      "execution_count": 21,
      "outputs": [
        {
          "output_type": "execute_result",
          "data": {
            "text/plain": [
              "Row_ID                                   0\n",
              "title                                    0\n",
              "model                                    0\n",
              "battery                                  0\n",
              "price-range                              0\n",
              "0 - 100                                  0\n",
              "Top Speed                                0\n",
              "Range*                                   0\n",
              "Efficiency*                              0\n",
              "Fastcharge*                              0\n",
              "Germany_price_before_incentives         13\n",
              "Netherlands_price_before_incentives     31\n",
              "UK_price_after_incentives              106\n",
              "Drive_Configuration                      0\n",
              "Tow_Hitch                              116\n",
              "Towing_capacity_in_kg                  125\n",
              "Number_of_seats                          0\n",
              "dtype: int64"
            ],
            "text/html": [
              "<div>\n",
              "<style scoped>\n",
              "    .dataframe tbody tr th:only-of-type {\n",
              "        vertical-align: middle;\n",
              "    }\n",
              "\n",
              "    .dataframe tbody tr th {\n",
              "        vertical-align: top;\n",
              "    }\n",
              "\n",
              "    .dataframe thead th {\n",
              "        text-align: right;\n",
              "    }\n",
              "</style>\n",
              "<table border=\"1\" class=\"dataframe\">\n",
              "  <thead>\n",
              "    <tr style=\"text-align: right;\">\n",
              "      <th></th>\n",
              "      <th>0</th>\n",
              "    </tr>\n",
              "  </thead>\n",
              "  <tbody>\n",
              "    <tr>\n",
              "      <th>Row_ID</th>\n",
              "      <td>0</td>\n",
              "    </tr>\n",
              "    <tr>\n",
              "      <th>title</th>\n",
              "      <td>0</td>\n",
              "    </tr>\n",
              "    <tr>\n",
              "      <th>model</th>\n",
              "      <td>0</td>\n",
              "    </tr>\n",
              "    <tr>\n",
              "      <th>battery</th>\n",
              "      <td>0</td>\n",
              "    </tr>\n",
              "    <tr>\n",
              "      <th>price-range</th>\n",
              "      <td>0</td>\n",
              "    </tr>\n",
              "    <tr>\n",
              "      <th>0 - 100</th>\n",
              "      <td>0</td>\n",
              "    </tr>\n",
              "    <tr>\n",
              "      <th>Top Speed</th>\n",
              "      <td>0</td>\n",
              "    </tr>\n",
              "    <tr>\n",
              "      <th>Range*</th>\n",
              "      <td>0</td>\n",
              "    </tr>\n",
              "    <tr>\n",
              "      <th>Efficiency*</th>\n",
              "      <td>0</td>\n",
              "    </tr>\n",
              "    <tr>\n",
              "      <th>Fastcharge*</th>\n",
              "      <td>0</td>\n",
              "    </tr>\n",
              "    <tr>\n",
              "      <th>Germany_price_before_incentives</th>\n",
              "      <td>13</td>\n",
              "    </tr>\n",
              "    <tr>\n",
              "      <th>Netherlands_price_before_incentives</th>\n",
              "      <td>31</td>\n",
              "    </tr>\n",
              "    <tr>\n",
              "      <th>UK_price_after_incentives</th>\n",
              "      <td>106</td>\n",
              "    </tr>\n",
              "    <tr>\n",
              "      <th>Drive_Configuration</th>\n",
              "      <td>0</td>\n",
              "    </tr>\n",
              "    <tr>\n",
              "      <th>Tow_Hitch</th>\n",
              "      <td>116</td>\n",
              "    </tr>\n",
              "    <tr>\n",
              "      <th>Towing_capacity_in_kg</th>\n",
              "      <td>125</td>\n",
              "    </tr>\n",
              "    <tr>\n",
              "      <th>Number_of_seats</th>\n",
              "      <td>0</td>\n",
              "    </tr>\n",
              "  </tbody>\n",
              "</table>\n",
              "</div><br><label><b>dtype:</b> int64</label>"
            ]
          },
          "metadata": {},
          "execution_count": 21
        }
      ]
    },
    {
      "cell_type": "code",
      "source": [
        "# 1. Cleaning: Convert performance columns to float\n",
        "performance_cols = {\n",
        "    '0 - 100': ' sec',\n",
        "    'Top Speed': ' km/h',\n",
        "    'Range*': ' km',\n",
        "    'Efficiency*': ' Wh/km',\n",
        "    'Fastcharge*': ' km/h'\n",
        "}"
      ],
      "metadata": {
        "id": "2i2WoJxQMhcX"
      },
      "execution_count": 22,
      "outputs": []
    },
    {
      "cell_type": "code",
      "source": [
        "for col, unit in performance_cols.items():\n",
        "    df[col] = df[col].astype(str).str.replace(unit, '', regex=False)\n",
        "    df[col] = pd.to_numeric(df[col], errors='coerce')"
      ],
      "metadata": {
        "id": "4R6CLqt5Mkzb"
      },
      "execution_count": 23,
      "outputs": []
    },
    {
      "cell_type": "code",
      "source": [
        "# 2. Cleaning: Convert price columns to float\n",
        "price_cols = [\n",
        "    'Germany_price_before_incentives',\n",
        "    'Netherlands_price_before_incentives',\n",
        "    'UK_price_after_incentives'\n",
        "]"
      ],
      "metadata": {
        "id": "29ylSH4aM8wA"
      },
      "execution_count": 26,
      "outputs": []
    },
    {
      "cell_type": "code",
      "source": [
        "for col in price_cols:\n",
        "    df[col] = df[col].astype(str).str.replace(r'[€£,]', '', regex=True)\n",
        "    df[col] = df[col].replace(['nan', 'N/A', 'NaN'], np.nan)\n",
        "    df[col] = pd.to_numeric(df[col], errors='coerce')"
      ],
      "metadata": {
        "id": "wyLNN17oNFDz"
      },
      "execution_count": 27,
      "outputs": []
    },
    {
      "cell_type": "code",
      "source": [
        "# --- Start Cross-Currency Imputation ---\n",
        "\n",
        "# Assumed Exchange Rates (for imputation)\n",
        "# 1 EUR -> 0.85 GBP\n",
        "# 1 GBP -> 1.17 EUR\n",
        "# A. Impute UK Price (GBP) using German Price (EUR)\n",
        "condition_uk_missing = df['UK_price_after_incentives'].isnull()\n",
        "condition_de_available = df['Germany_price_before_incentives'].notnull()"
      ],
      "metadata": {
        "id": "1hmJcrvDNLvZ"
      },
      "execution_count": 44,
      "outputs": []
    },
    {
      "cell_type": "code",
      "source": [
        "df.loc[condition_uk_missing & condition_de_available, 'UK_price_after_incentives'] = \\\n",
        "    df['Germany_price_before_incentives'] * 0.85"
      ],
      "metadata": {
        "id": "F3XLh7YhNO2G"
      },
      "execution_count": 45,
      "outputs": []
    },
    {
      "cell_type": "code",
      "source": [
        "# # B. Impute German Price (EUR) using UK Price (GBP)\n",
        "condition_de_missing = df['Germany_price_before_incentives'].isnull()\n",
        "condition_uk_available = df['UK_price_after_incentives'].notnull()"
      ],
      "metadata": {
        "id": "Feb0qUO3NSbQ"
      },
      "execution_count": 46,
      "outputs": []
    },
    {
      "cell_type": "code",
      "source": [
        "df.loc[condition_de_missing & condition_uk_available, 'Germany_price_before_incentives'] = \\\n",
        "    df['UK_price_after_incentives'] * 1.17"
      ],
      "metadata": {
        "id": "ce-mGDvxNZBY"
      },
      "execution_count": 47,
      "outputs": []
    },
    {
      "cell_type": "code",
      "source": [
        "# C. Impute Netherlands Price (EUR) using German Price (EUR)\n",
        "condition_nl_missing = df['Netherlands_price_before_incentives'].isnull()\n",
        "condition_de_available_final = df['Germany_price_before_incentives'].notnull()\n",
        "df.loc[condition_nl_missing & condition_de_available_final, 'Netherlands_price_before_incentives'] = \\\n",
        "    df['Germany_price_before_incentives']"
      ],
      "metadata": {
        "id": "0QWjouwnR7SO"
      },
      "execution_count": 49,
      "outputs": []
    },
    {
      "cell_type": "code",
      "source": [
        "# --- Step 4: Stage 2 Imputation (Manufacturer Median for Remaining NaNs) ---\n",
        "\n",
        "# Impute remaining price NaNs with the MEDIAN PRICE of the same manufacturer ('title')\n",
        "for col in price_cols:\n",
        "    # Use groupby().transform() to fill NaNs with the group median\n",
        "    # This only works if there is at least one non-NaN value for that manufacturer.\n",
        "    df[col] = df[col].fillna(df.groupby('title')[col].transform('median'))"
      ],
      "metadata": {
        "id": "7KFhHzo0SGlK"
      },
      "execution_count": 50,
      "outputs": []
    },
    {
      "cell_type": "code",
      "source": [
        "# For the absolute final missing price values (where a manufacturer had NO data), use the global median\n",
        "for col in price_cols:\n",
        "    global_median = df[col].median()\n",
        "    df[col] = df[col].fillna(global_median)"
      ],
      "metadata": {
        "id": "WXGMzKCKVB1v"
      },
      "execution_count": 51,
      "outputs": []
    },
    {
      "cell_type": "code",
      "source": [
        "# --- 3. Calculate Estimated US Price ---\n",
        "\n",
        "# Define conversion rates (approximate)\n",
        "EUR_TO_USD = 1.08\n",
        "GBP_TO_USD = 1.25"
      ],
      "metadata": {
        "id": "Pob-xGbsaU-C"
      },
      "execution_count": 61,
      "outputs": []
    },
    {
      "cell_type": "code",
      "source": [
        "# Create a temporary DataFrame of USD-converted prices\n",
        "usd_estimates = pd.DataFrame({\n",
        "    'USD_from_DE': df['Germany_price_before_incentives'] * EUR_TO_USD,\n",
        "    'USD_from_NL': df['Netherlands_price_before_incentives'] * EUR_TO_USD,\n",
        "    'USD_from_UK': df['UK_price_after_incentives'] * GBP_TO_USD\n",
        "})"
      ],
      "metadata": {
        "id": "z2f06g6xamsA"
      },
      "execution_count": 62,
      "outputs": []
    },
    {
      "cell_type": "code",
      "source": [
        "# Calculate the mean of the available USD estimates for each row\n",
        "df['Estimated_US_Price'] = usd_estimates.mean(axis=1)"
      ],
      "metadata": {
        "id": "QYcWvwq0ap_I"
      },
      "execution_count": 63,
      "outputs": []
    },
    {
      "cell_type": "code",
      "source": [
        "# Imputation Step A: Manufacturer Median Imputation for Estimated_US_Price\n",
        "# Fill NaNs with the median price for the same car manufacturer\n",
        "df['Estimated_US_Price'] = df['Estimated_US_Price'].fillna(\n",
        "    df.groupby('title')['Estimated_US_Price'].transform('median')\n",
        ")\n",
        "\n",
        "# Imputation Step B: Global Median Imputation (Final guarantee for price)\n",
        "global_median_usd = df['Estimated_US_Price'].median()\n",
        "df['Estimated_US_Price'] = df['Estimated_US_Price'].fillna(global_median_usd)"
      ],
      "metadata": {
        "id": "P084zWlvawbQ"
      },
      "execution_count": 64,
      "outputs": []
    },
    {
      "cell_type": "code",
      "source": [
        "# Impute Fastcharge* NaNs with the global median\n",
        "median_fastcharge = df['Fastcharge*'].median()\n",
        "df['Fastcharge*'] = df['Fastcharge*'].fillna(median_fastcharge)"
      ],
      "metadata": {
        "id": "ezyq_9mmVFE3"
      },
      "execution_count": 65,
      "outputs": []
    },
    {
      "cell_type": "code",
      "source": [
        "# Tow_Hitch: Fill NaN with a category\n",
        "df['Tow_Hitch'] = df['Tow_Hitch'].fillna('No information/Not possible')"
      ],
      "metadata": {
        "id": "_OaKBVYgSJsk"
      },
      "execution_count": 66,
      "outputs": []
    },
    {
      "cell_type": "code",
      "source": [
        "# Towing_capacity_in_kg: Fill NaN with 0 and convert to integer\n",
        "df['Towing_capacity_in_kg'] = df['Towing_capacity_in_kg'].fillna(0).astype(int)"
      ],
      "metadata": {
        "id": "n27xETKVSMh0"
      },
      "execution_count": 67,
      "outputs": []
    },
    {
      "cell_type": "code",
      "source": [
        "# Display the results of the cleaning\n",
        "print(\"\\n--- Cleaned DataFrame Head ---\")\n",
        "print(df.head().to_markdown(index=False, numalign=\"left\", stralign=\"left\"))"
      ],
      "metadata": {
        "colab": {
          "base_uri": "https://localhost:8080/"
        },
        "id": "ClRwC7SgST3a",
        "outputId": "93982584-877f-4607-901a-1bbd6abd97b4"
      },
      "execution_count": 68,
      "outputs": [
        {
          "output_type": "stream",
          "name": "stdout",
          "text": [
            "\n",
            "--- Cleaned DataFrame Head ---\n",
            "| Row_ID   | title   | model                         | battery   | price-range   | 0 - 100   | Top Speed   | Range*   | Efficiency*   | Fastcharge*   | Germany_price_before_incentives   | Netherlands_price_before_incentives   | UK_price_after_incentives   | Drive_Configuration   | Tow_Hitch       | Towing_capacity_in_kg   | Number_of_seats   | Estimated_US_Price   |\n",
            "|:---------|:--------|:------------------------------|:----------|:--------------|:----------|:------------|:---------|:--------------|:--------------|:----------------------------------|:--------------------------------------|:----------------------------|:----------------------|:----------------|:------------------------|:------------------|:---------------------|\n",
            "| 1        | Tesla   | Model 3                       | 57.5      | 104           | 6.1       | 201         | 415      | 139           | 690           | 41970                             | 41990                                 | 39990                       | Rear Wheel Drive      | Towbar possible | 1000                    | 5                 | 46888.1              |\n",
            "| 2        | Tesla   | Model Y                       | 57.5      | 137           | 6.9       | 217         | 350      | 164           | 580           | 45970                             | 45990                                 | 44990                       | Rear Wheel Drive      | Towbar possible | 1600                    | 5                 | 51851.4              |\n",
            "| 3        | Tesla   | Model Y Long Range Dual Motor | 75        | 130           | 5         | 217         | 435      | 172           | 670           | 55970                             | 52990                                 | 52990                       | All Wheel Drive       | Towbar possible | 1600                    | 5                 | 61304.8              |\n",
            "| 4        | Tesla   | Model 3 Long Range Dual Motor | 75        | 106           | 4.4       | 201         | 500      | 150           | 770           | 50970                             | 49990                                 | 49990                       | All Wheel Drive       | Towbar possible | 1000                    | 5                 | 57174.8              |\n",
            "| 5        | Tesla   | Model Y Long Range RWD        | 75        | 109           | 5.9       | 217         | 460      | 163           | 710           | 49970                             | 49990                                 | 42474.5                     | Rear Wheel Drive      | Towbar possible | 1600                    | 5                 | 53683.3              |\n"
          ]
        }
      ]
    },
    {
      "cell_type": "code",
      "source": [
        "df.info()"
      ],
      "metadata": {
        "colab": {
          "base_uri": "https://localhost:8080/"
        },
        "id": "-xwRGMH2Sfa6",
        "outputId": "5ff9fe04-853e-4328-a9c4-e62f3d64719d"
      },
      "execution_count": 69,
      "outputs": [
        {
          "output_type": "stream",
          "name": "stdout",
          "text": [
            "<class 'pandas.core.frame.DataFrame'>\n",
            "RangeIndex: 353 entries, 0 to 352\n",
            "Data columns (total 18 columns):\n",
            " #   Column                               Non-Null Count  Dtype  \n",
            "---  ------                               --------------  -----  \n",
            " 0   Row_ID                               353 non-null    int64  \n",
            " 1   title                                353 non-null    object \n",
            " 2   model                                353 non-null    object \n",
            " 3   battery                              353 non-null    float64\n",
            " 4   price-range                          353 non-null    int64  \n",
            " 5   0 - 100                              353 non-null    float64\n",
            " 6   Top Speed                            353 non-null    int64  \n",
            " 7   Range*                               353 non-null    int64  \n",
            " 8   Efficiency*                          353 non-null    int64  \n",
            " 9   Fastcharge*                          353 non-null    float64\n",
            " 10  Germany_price_before_incentives      353 non-null    float64\n",
            " 11  Netherlands_price_before_incentives  353 non-null    float64\n",
            " 12  UK_price_after_incentives            353 non-null    float64\n",
            " 13  Drive_Configuration                  353 non-null    object \n",
            " 14  Tow_Hitch                            353 non-null    object \n",
            " 15  Towing_capacity_in_kg                353 non-null    int64  \n",
            " 16  Number_of_seats                      353 non-null    int64  \n",
            " 17  Estimated_US_Price                   353 non-null    float64\n",
            "dtypes: float64(7), int64(7), object(4)\n",
            "memory usage: 49.8+ KB\n"
          ]
        }
      ]
    },
    {
      "cell_type": "code",
      "source": [
        "df.isnull().sum()"
      ],
      "metadata": {
        "colab": {
          "base_uri": "https://localhost:8080/",
          "height": 648
        },
        "id": "PeqTIdtVSi_o",
        "outputId": "f883f951-2783-4dc3-8953-47a2a302562d"
      },
      "execution_count": 70,
      "outputs": [
        {
          "output_type": "execute_result",
          "data": {
            "text/plain": [
              "Row_ID                                 0\n",
              "title                                  0\n",
              "model                                  0\n",
              "battery                                0\n",
              "price-range                            0\n",
              "0 - 100                                0\n",
              "Top Speed                              0\n",
              "Range*                                 0\n",
              "Efficiency*                            0\n",
              "Fastcharge*                            0\n",
              "Germany_price_before_incentives        0\n",
              "Netherlands_price_before_incentives    0\n",
              "UK_price_after_incentives              0\n",
              "Drive_Configuration                    0\n",
              "Tow_Hitch                              0\n",
              "Towing_capacity_in_kg                  0\n",
              "Number_of_seats                        0\n",
              "Estimated_US_Price                     0\n",
              "dtype: int64"
            ],
            "text/html": [
              "<div>\n",
              "<style scoped>\n",
              "    .dataframe tbody tr th:only-of-type {\n",
              "        vertical-align: middle;\n",
              "    }\n",
              "\n",
              "    .dataframe tbody tr th {\n",
              "        vertical-align: top;\n",
              "    }\n",
              "\n",
              "    .dataframe thead th {\n",
              "        text-align: right;\n",
              "    }\n",
              "</style>\n",
              "<table border=\"1\" class=\"dataframe\">\n",
              "  <thead>\n",
              "    <tr style=\"text-align: right;\">\n",
              "      <th></th>\n",
              "      <th>0</th>\n",
              "    </tr>\n",
              "  </thead>\n",
              "  <tbody>\n",
              "    <tr>\n",
              "      <th>Row_ID</th>\n",
              "      <td>0</td>\n",
              "    </tr>\n",
              "    <tr>\n",
              "      <th>title</th>\n",
              "      <td>0</td>\n",
              "    </tr>\n",
              "    <tr>\n",
              "      <th>model</th>\n",
              "      <td>0</td>\n",
              "    </tr>\n",
              "    <tr>\n",
              "      <th>battery</th>\n",
              "      <td>0</td>\n",
              "    </tr>\n",
              "    <tr>\n",
              "      <th>price-range</th>\n",
              "      <td>0</td>\n",
              "    </tr>\n",
              "    <tr>\n",
              "      <th>0 - 100</th>\n",
              "      <td>0</td>\n",
              "    </tr>\n",
              "    <tr>\n",
              "      <th>Top Speed</th>\n",
              "      <td>0</td>\n",
              "    </tr>\n",
              "    <tr>\n",
              "      <th>Range*</th>\n",
              "      <td>0</td>\n",
              "    </tr>\n",
              "    <tr>\n",
              "      <th>Efficiency*</th>\n",
              "      <td>0</td>\n",
              "    </tr>\n",
              "    <tr>\n",
              "      <th>Fastcharge*</th>\n",
              "      <td>0</td>\n",
              "    </tr>\n",
              "    <tr>\n",
              "      <th>Germany_price_before_incentives</th>\n",
              "      <td>0</td>\n",
              "    </tr>\n",
              "    <tr>\n",
              "      <th>Netherlands_price_before_incentives</th>\n",
              "      <td>0</td>\n",
              "    </tr>\n",
              "    <tr>\n",
              "      <th>UK_price_after_incentives</th>\n",
              "      <td>0</td>\n",
              "    </tr>\n",
              "    <tr>\n",
              "      <th>Drive_Configuration</th>\n",
              "      <td>0</td>\n",
              "    </tr>\n",
              "    <tr>\n",
              "      <th>Tow_Hitch</th>\n",
              "      <td>0</td>\n",
              "    </tr>\n",
              "    <tr>\n",
              "      <th>Towing_capacity_in_kg</th>\n",
              "      <td>0</td>\n",
              "    </tr>\n",
              "    <tr>\n",
              "      <th>Number_of_seats</th>\n",
              "      <td>0</td>\n",
              "    </tr>\n",
              "    <tr>\n",
              "      <th>Estimated_US_Price</th>\n",
              "      <td>0</td>\n",
              "    </tr>\n",
              "  </tbody>\n",
              "</table>\n",
              "</div><br><label><b>dtype:</b> int64</label>"
            ]
          },
          "metadata": {},
          "execution_count": 70
        }
      ]
    },
    {
      "cell_type": "code",
      "source": [
        "# Save the final cleaned DataFrame to a new CSV file\n",
        "imputed_file_name = \"cars_data_CROSS_IMPUTED.csv\"\n",
        "df.to_csv(imputed_file_name, index=False)"
      ],
      "metadata": {
        "id": "0v82eKyfNyUp"
      },
      "execution_count": 71,
      "outputs": []
    },
    {
      "cell_type": "code",
      "source": [
        "print(f\"Cleaned dataset saved as: {imputed_file_name}\")"
      ],
      "metadata": {
        "id": "yjlNUuxmN1fQ",
        "outputId": "a8d3768f-7701-49ba-8e67-ecc22b666428",
        "colab": {
          "base_uri": "https://localhost:8080/"
        }
      },
      "execution_count": 72,
      "outputs": [
        {
          "output_type": "stream",
          "name": "stdout",
          "text": [
            "Cleaned dataset saved as: cars_data_CROSS_IMPUTED.csv\n"
          ]
        }
      ]
    }
  ]
}